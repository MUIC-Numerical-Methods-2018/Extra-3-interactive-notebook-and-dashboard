{
 "cells": [
  {
   "cell_type": "code",
   "execution_count": 36,
   "metadata": {
    "ExecuteTime": {
     "end_time": "2021-03-26T03:29:38.129904Z",
     "start_time": "2021-03-26T03:29:38.123185Z"
    }
   },
   "outputs": [],
   "source": [
    "from ipywidgets import interact, interact\n",
    "import ipywidgets as widgets\n",
    "from matplotlib import pyplot as plt\n",
    "import numpy as np"
   ]
  },
  {
   "cell_type": "code",
   "execution_count": 6,
   "metadata": {
    "ExecuteTime": {
     "end_time": "2021-03-26T03:14:37.436065Z",
     "start_time": "2021-03-26T03:14:37.432721Z"
    }
   },
   "outputs": [],
   "source": [
    "#!pip install ipywidgets"
   ]
  },
  {
   "cell_type": "code",
   "execution_count": 7,
   "metadata": {
    "ExecuteTime": {
     "end_time": "2021-03-26T03:15:05.882415Z",
     "start_time": "2021-03-26T03:15:05.833255Z"
    }
   },
   "outputs": [
    {
     "data": {
      "application/vnd.jupyter.widget-view+json": {
       "model_id": "c1e6588aa50a4d59a9829b5b0df6e5eb",
       "version_major": 2,
       "version_minor": 0
      },
      "text/plain": [
       "interactive(children=(IntSlider(value=2, description='x', max=6, min=-2), IntSlider(value=3, description='y', …"
      ]
     },
     "metadata": {},
     "output_type": "display_data"
    },
    {
     "data": {
      "text/plain": [
       "<function __main__.f(x, y)>"
      ]
     },
     "execution_count": 7,
     "metadata": {},
     "output_type": "execute_result"
    }
   ],
   "source": [
    "def f(x,y):\n",
    "    print(x+y)\n",
    "    \n",
    "interact(f, x=2, y=3)"
   ]
  },
  {
   "cell_type": "code",
   "execution_count": 8,
   "metadata": {
    "ExecuteTime": {
     "end_time": "2021-03-26T03:15:54.423697Z",
     "start_time": "2021-03-26T03:15:54.237759Z"
    }
   },
   "outputs": [
    {
     "data": {
      "application/vnd.jupyter.widget-view+json": {
       "model_id": "8200a27bdf6840b39e22c812b6e860e4",
       "version_major": 2,
       "version_minor": 0
      },
      "text/plain": [
       "interactive(children=(FloatSlider(value=0.5, description='m', max=1.0, min=-1.0), FloatSlider(value=0.5, descr…"
      ]
     },
     "metadata": {},
     "output_type": "display_data"
    },
    {
     "data": {
      "text/plain": [
       "<function __main__.f(m, c)>"
      ]
     },
     "execution_count": 8,
     "metadata": {},
     "output_type": "execute_result"
    }
   ],
   "source": [
    "def f(m, c):\n",
    "    xs = np.linspace(0,1,100)\n",
    "    plt.plot(xs, m*xs + c)\n",
    "    \n",
    "interact(f, \n",
    "         m=widgets.FloatSlider(value=0.5, min=-1.,max=1.,step=0.1), \n",
    "         c=widgets.FloatSlider(value=0.5, min=0.,max=1.,step=0.1))"
   ]
  },
  {
   "cell_type": "code",
   "execution_count": 16,
   "metadata": {
    "ExecuteTime": {
     "end_time": "2021-03-26T03:22:11.656462Z",
     "start_time": "2021-03-26T03:22:11.580522Z"
    }
   },
   "outputs": [],
   "source": [
    "from matplotlib.colors import rgb_to_hsv, hsv_to_rgb\n",
    "im = plt.imread('mario.png')\n",
    "im = im[:,:,:3]\n",
    "\n",
    "im_hsv = rgb_to_hsv(im)"
   ]
  },
  {
   "cell_type": "code",
   "execution_count": 39,
   "metadata": {
    "ExecuteTime": {
     "end_time": "2021-03-26T03:31:08.100586Z",
     "start_time": "2021-03-26T03:31:07.899075Z"
    }
   },
   "outputs": [
    {
     "data": {
      "application/vnd.jupyter.widget-view+json": {
       "model_id": "bc9138600bdc4865b43b9db6eab4e353",
       "version_major": 2,
       "version_minor": 0
      },
      "text/plain": [
       "interactive(children=(FloatSlider(value=0.1, continuous_update=False, description='v', max=1.0, step=0.01), Ou…"
      ]
     },
     "metadata": {},
     "output_type": "display_data"
    },
    {
     "data": {
      "text/plain": [
       "<function __main__.try_color_mask(v)>"
      ]
     },
     "execution_count": 39,
     "metadata": {},
     "output_type": "execute_result"
    }
   ],
   "source": [
    "def try_color_mask(v, replace_to):\n",
    "    h = im_hsv[:, :, 0]\n",
    "    red_mask = h < v\n",
    "\n",
    "    copy_im = im_hsv.copy()\n",
    "    copy_im[red_mask, 0] = replace_to \n",
    "    plt.imshow(hsv_to_rgb(copy_im))\n",
    "\n",
    "interact(try_color_mask, \n",
    "        v=widgets.FloatSlider(value=0.1, min=0.,max=1.,step=0.01, continuous_update=False)\n",
    "        replace_to=widgets.FloatSlider(value=0.1, min=0.,max=1.,step=0.01, continuous_update=False))"
   ]
  },
  {
   "cell_type": "code",
   "execution_count": 40,
   "metadata": {
    "ExecuteTime": {
     "end_time": "2021-03-26T03:33:00.429245Z",
     "start_time": "2021-03-26T03:33:00.403702Z"
    }
   },
   "outputs": [
    {
     "data": {
      "text/plain": [
       "array([[20.,  0.,  0.],\n",
       "       [20.,  0.,  0.],\n",
       "       [20.,  0.,  0.],\n",
       "       ...,\n",
       "       [20.,  0.,  0.],\n",
       "       [20.,  0.,  0.],\n",
       "       [20.,  0.,  0.]], dtype=float32)"
      ]
     },
     "execution_count": 40,
     "metadata": {},
     "output_type": "execute_result"
    }
   ],
   "source": [
    "copy_im[red_mask, 0]= 20\n",
    "copy_im[red_mask]"
   ]
  },
  {
   "cell_type": "code",
   "execution_count": null,
   "metadata": {},
   "outputs": [],
   "source": []
  }
 ],
 "metadata": {
  "hide_input": false,
  "kernelspec": {
   "display_name": "Python 3",
   "language": "python",
   "name": "python3"
  },
  "language_info": {
   "codemirror_mode": {
    "name": "ipython",
    "version": 3
   },
   "file_extension": ".py",
   "mimetype": "text/x-python",
   "name": "python",
   "nbconvert_exporter": "python",
   "pygments_lexer": "ipython3",
   "version": "3.7.3"
  },
  "toc": {
   "colors": {
    "hover_highlight": "#DAA520",
    "running_highlight": "#FF0000",
    "selected_highlight": "#FFD700"
   },
   "moveMenuLeft": true,
   "nav_menu": {
    "height": "12.352940559387207px",
    "width": "252.35293579101562px"
   },
   "navigate_menu": true,
   "number_sections": false,
   "sideBar": true,
   "threshold": 4,
   "toc_cell": false,
   "toc_section_display": "block",
   "toc_window_display": false
  }
 },
 "nbformat": 4,
 "nbformat_minor": 4
}
